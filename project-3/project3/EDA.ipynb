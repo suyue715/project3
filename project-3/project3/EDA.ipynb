{
 "cells": [
  {
   "cell_type": "code",
   "execution_count": 32,
   "metadata": {},
   "outputs": [],
   "source": [
    "#Import the packages\n",
    "import pandas as pd\n",
    "from sklearn.model_selection import train_test_split\n",
    "from sklearn.linear_model import LinearRegression\n",
    "from sklearn.model_selection import KFold\n",
    "from sklearn.model_selection import cross_val_score, cross_val_predict\n",
    "import numpy as np\n",
    "import seaborn as sns\n",
    "import matplotlib.pyplot as plt\n",
    "from scipy.stats import norm, skew\n",
    "%matplotlib inline"
   ]
  },
  {
   "cell_type": "code",
   "execution_count": 33,
   "metadata": {},
   "outputs": [],
   "source": [
    "#Import the dataset\n",
    "train=pd.read_csv('train.csv')\n",
    "test=pd.read_csv('test.csv')\n",
    "full = train.append(test, ignore_index=True)"
   ]
  },
  {
   "cell_type": "code",
   "execution_count": 34,
   "metadata": {},
   "outputs": [
    {
     "name": "stdout",
     "output_type": "stream",
     "text": [
      "(2051, 82) (879, 80) (2930, 82)\n"
     ]
    }
   ],
   "source": [
    "print(train.shape,test.shape,full.shape)"
   ]
  },
  {
   "cell_type": "markdown",
   "metadata": {},
   "source": [
    " "
   ]
  },
  {
   "cell_type": "markdown",
   "metadata": {},
   "source": [
    " "
   ]
  },
  {
   "cell_type": "markdown",
   "metadata": {},
   "source": [
    "Preprocessing"
   ]
  },
  {
   "cell_type": "code",
   "execution_count": 35,
   "metadata": {},
   "outputs": [
    {
     "data": {
      "text/plain": [
       "Pool QC           2917\n",
       "Misc Feature      2824\n",
       "Alley             2732\n",
       "Fence             2358\n",
       "Fireplace Qu      1422\n",
       "Sale Condition     879\n",
       "SalePrice          879\n",
       "Lot Frontage       490\n",
       "Garage Qual        159\n",
       "Garage Cond        159\n",
       "Garage Finish      159\n",
       "Garage Yr Blt      159\n",
       "Garage Type        157\n",
       "Bsmt Exposure       83\n",
       "BsmtFin Type 2      81\n",
       "Bsmt Qual           80\n",
       "Bsmt Cond           80\n",
       "BsmtFin Type 1      80\n",
       "Mas Vnr Area        23\n",
       "Mas Vnr Type        23\n",
       "Bsmt Full Bath       2\n",
       "Bsmt Half Bath       2\n",
       "Total Bsmt SF        1\n",
       "Bsmt Unf SF          1\n",
       "BsmtFin SF 1         1\n",
       "BsmtFin SF 2         1\n",
       "Electrical           1\n",
       "Garage Cars          1\n",
       "Garage Area          1\n",
       "dtype: int64"
      ]
     },
     "execution_count": 35,
     "metadata": {},
     "output_type": "execute_result"
    }
   ],
   "source": [
    "full[full.columns[full.isnull().any()]].isnull().sum().sort_values(ascending=False)"
   ]
  },
  {
   "cell_type": "code",
   "execution_count": 36,
   "metadata": {},
   "outputs": [
    {
     "data": {
      "text/plain": [
       "(2930, 76)"
      ]
     },
     "execution_count": 36,
     "metadata": {},
     "output_type": "execute_result"
    }
   ],
   "source": [
    "\n",
    "#drop the features with 40 percent of missing values\n",
    "features = pd.concat([train, test], keys=['train', 'test'])\n",
    "features.drop(['Pool QC', 'Misc Feature', 'Fireplace Qu', 'Fence', 'Alley','PID'],\n",
    "              axis=1, inplace=True)\n",
    "features.shape"
   ]
  },
  {
   "cell_type": "code",
   "execution_count": 37,
   "metadata": {},
   "outputs": [
    {
     "data": {
      "text/plain": [
       "SalePrice         879\n",
       "Sale Condition    879\n",
       "Lot Frontage      490\n",
       "Garage Qual       159\n",
       "Garage Finish     159\n",
       "Garage Cond       159\n",
       "Garage Yr Blt     159\n",
       "Garage Type       157\n",
       "Bsmt Exposure      83\n",
       "BsmtFin Type 2     81\n",
       "Bsmt Qual          80\n",
       "BsmtFin Type 1     80\n",
       "Bsmt Cond          80\n",
       "Mas Vnr Area       23\n",
       "Mas Vnr Type       23\n",
       "Bsmt Full Bath      2\n",
       "Bsmt Half Bath      2\n",
       "Total Bsmt SF       1\n",
       "Electrical          1\n",
       "Garage Area         1\n",
       "Garage Cars         1\n",
       "BsmtFin SF 2        1\n",
       "BsmtFin SF 1        1\n",
       "Bsmt Unf SF         1\n",
       "Functional          0\n",
       "dtype: int64"
      ]
     },
     "execution_count": 37,
     "metadata": {},
     "output_type": "execute_result"
    }
   ],
   "source": [
    "#features with missing values\n",
    "features.isnull().sum().sort_values(ascending=False).head(25)"
   ]
  },
  {
   "cell_type": "code",
   "execution_count": 38,
   "metadata": {},
   "outputs": [],
   "source": [
    "#fill the nas\n",
    "features['Sale Condition'] = features['Sale Condition'].fillna(features['Sale Condition'].mode()[0])\n",
    "features['Lot Frontage'] = features['Lot Frontage'].fillna(features['Lot Frontage'].mean())\n",
    "for col in ('Garage Type', 'Garage Finish', 'Garage Qual', 'Garage Cond'):\n",
    "    features[col] = features[col].fillna('NoGRG')\n",
    "features['Garage Cars'] = features['Garage Cars'].fillna(0.0)\n",
    "features['Garage Area'] = features['Garage Area'].fillna(0.0)\n",
    "features.drop(['Total Bsmt SF',  'Garage Yr Blt'], axis=1, inplace=True)\n",
    "features['BsmtFin SF 1'] = features['BsmtFin SF 1'].fillna(0)   \n",
    "features['BsmtFin SF 2'] = features['BsmtFin SF 2'].fillna(0)  \n",
    "features['Bsmt Full Bath'] = features['Bsmt Full Bath'].fillna(features['Bsmt Full Bath'].median())\n",
    "features['Bsmt Half Bath'] = features['Bsmt Half Bath'].fillna(features['Bsmt Half Bath'].median())\n",
    "features['Bsmt Unf SF'] = features['Bsmt Unf SF'].fillna(features['Bsmt Unf SF'].mean())\n",
    "features['Electrical'] = features['Electrical'].fillna(features['Electrical'].mode()[0])\n",
    "for col in ('Bsmt Exposure', 'BsmtFin Type 1', 'BsmtFin Type 2', 'Bsmt Cond','Bsmt Qual'):\n",
    "    features[col] = features[col].fillna('NoBasement')\n",
    "features['Mas Vnr Area'] = features['Mas Vnr Area'].fillna(0.0)\n",
    "features['Mas Vnr Type'] = features['Mas Vnr Type'].fillna('None')"
   ]
  },
  {
   "cell_type": "code",
   "execution_count": 39,
   "metadata": {},
   "outputs": [
    {
     "data": {
      "text/plain": [
       "SalePrice         879\n",
       "Yr Sold             0\n",
       "Full Bath           0\n",
       "Enclosed Porch      0\n",
       "Exter Cond          0\n",
       "dtype: int64"
      ]
     },
     "execution_count": 39,
     "metadata": {},
     "output_type": "execute_result"
    }
   ],
   "source": [
    "#check nas\n",
    "features.isnull().sum().sort_values(ascending=False).head(5)"
   ]
  },
  {
   "cell_type": "code",
   "execution_count": 47,
   "metadata": {},
   "outputs": [],
   "source": [
    "#fill nas with mean in saleprice \n",
    "features['SalePrice'] = features['SalePrice'].fillna(features['SalePrice'].mean()) "
   ]
  },
  {
   "cell_type": "code",
   "execution_count": 48,
   "metadata": {},
   "outputs": [
    {
     "data": {
      "text/plain": [
       "<matplotlib.text.Text at 0x1171f4c50>"
      ]
     },
     "execution_count": 48,
     "metadata": {},
     "output_type": "execute_result"
    },
    {
     "data": {
      "image/png": "[encoded data removed]",
      "text/plain": [
       "<matplotlib.figure.Figure at 0x116d59ac8>"
      ]
     },
     "metadata": {},
     "output_type": "display_data"
    }
   ],
   "source": [
    "sns.distplot(features['SalePrice'])\n",
    "sns.plt.title('Sale Price Distribution')"
   ]
  },
  {
   "cell_type": "code",
   "execution_count": 92,
   "metadata": {},
   "outputs": [
    {
     "data": {
      "text/plain": [
       "<matplotlib.text.Text at 0x119592550>"
      ]
     },
     "execution_count": 92,
     "metadata": {},
     "output_type": "execute_result"
    },
    {
     "data": {
      "image/png": "[encoded data removed]",
      "text/plain": [
       "<matplotlib.figure.Figure at 0x11909bc50>"
      ]
     },
     "metadata": {},
     "output_type": "display_data"
    }
   ],
   "source": [
    "sns.distplot(np.log(features['SalePrice']))\n",
    "sns.plt.title('Log Sale Price Distribution')"
   ]
  },
  {
   "cell_type": "code",
   "execution_count": 46,
   "metadata": {},
   "outputs": [
    {
     "name": "stdout",
     "output_type": "stream",
     "text": [
      "Sale Price Mean 181469.70160897123\n",
      "Sale Price Std Dev 79258.65935236562\n"
     ]
    }
   ],
   "source": [
    "print('Sale Price Mean',y_observed.mean())\n",
    "print('Sale Price Std Dev',y_observed.std())"
   ]
  },
  {
   "cell_type": "code",
   "execution_count": 72,
   "metadata": {},
   "outputs": [
    {
     "data": {
      "text/plain": [
       "<matplotlib.axes._subplots.AxesSubplot at 0x112ae6fd0>"
      ]
     },
     "execution_count": 72,
     "metadata": {},
     "output_type": "execute_result"
    },
    {
     "data": {
      "image/png": "[encoded data removed]",
      "text/plain": [
       "<matplotlib.figure.Figure at 0x117c3be10>"
      ]
     },
     "metadata": {},
     "output_type": "display_data"
    }
   ],
   "source": [
    "corr=features.corr()\n",
    "high_corr= corr.index[abs(corr[\"SalePrice\"])>0.4]\n",
    "sns.heatmap(train[high_corr].corr(),annot=True)"
   ]
  },
  {
   "cell_type": "code",
   "execution_count": 74,
   "metadata": {},
   "outputs": [
    {
     "data": {
      "text/html": [
       "<div>\n",
       "<style>\n",
       "    .dataframe thead tr:only-child th {\n",
       "        text-align: right;\n",
       "    }\n",
       "\n",
       "    .dataframe thead th {\n",
       "        text-align: left;\n",
       "    }\n",
       "\n",
       "    .dataframe tbody tr th {\n",
       "        vertical-align: top;\n",
       "    }\n",
       "</style>\n",
       "<table border=\"1\" class=\"dataframe\">\n",
       "  <thead>\n",
       "    <tr style=\"text-align: right;\">\n",
       "      <th></th>\n",
       "      <th>1st Flr SF</th>\n",
       "      <th>2nd Flr SF</th>\n",
       "      <th>3Ssn Porch</th>\n",
       "      <th>Bedroom AbvGr</th>\n",
       "      <th>Bsmt Full Bath</th>\n",
       "      <th>Bsmt Half Bath</th>\n",
       "      <th>Bsmt Unf SF</th>\n",
       "      <th>BsmtFin SF 1</th>\n",
       "      <th>BsmtFin SF 2</th>\n",
       "      <th>Enclosed Porch</th>\n",
       "      <th>...</th>\n",
       "      <th>Overall Cond</th>\n",
       "      <th>Overall Qual</th>\n",
       "      <th>Pool Area</th>\n",
       "      <th>SalePrice</th>\n",
       "      <th>Screen Porch</th>\n",
       "      <th>TotRms AbvGrd</th>\n",
       "      <th>Wood Deck SF</th>\n",
       "      <th>Year Built</th>\n",
       "      <th>Year Remod/Add</th>\n",
       "      <th>Yr Sold</th>\n",
       "    </tr>\n",
       "  </thead>\n",
       "  <tbody>\n",
       "    <tr>\n",
       "      <th>count</th>\n",
       "      <td>2930.000000</td>\n",
       "      <td>2930.000000</td>\n",
       "      <td>2930.000000</td>\n",
       "      <td>2930.000000</td>\n",
       "      <td>2930.000000</td>\n",
       "      <td>2930.000000</td>\n",
       "      <td>2930.000000</td>\n",
       "      <td>2930.000000</td>\n",
       "      <td>2930.000000</td>\n",
       "      <td>2930.000000</td>\n",
       "      <td>...</td>\n",
       "      <td>2930.000000</td>\n",
       "      <td>2930.000000</td>\n",
       "      <td>2930.000000</td>\n",
       "      <td>2930.000000</td>\n",
       "      <td>2930.000000</td>\n",
       "      <td>2930.000000</td>\n",
       "      <td>2930.000000</td>\n",
       "      <td>2930.000000</td>\n",
       "      <td>2930.000000</td>\n",
       "      <td>2930.000000</td>\n",
       "    </tr>\n",
       "    <tr>\n",
       "      <th>mean</th>\n",
       "      <td>1159.557679</td>\n",
       "      <td>335.455973</td>\n",
       "      <td>2.592491</td>\n",
       "      <td>2.854266</td>\n",
       "      <td>0.431058</td>\n",
       "      <td>0.061092</td>\n",
       "      <td>559.262547</td>\n",
       "      <td>442.478498</td>\n",
       "      <td>49.705461</td>\n",
       "      <td>23.011604</td>\n",
       "      <td>...</td>\n",
       "      <td>5.563140</td>\n",
       "      <td>6.094881</td>\n",
       "      <td>2.243345</td>\n",
       "      <td>181469.701609</td>\n",
       "      <td>16.002048</td>\n",
       "      <td>6.443003</td>\n",
       "      <td>93.751877</td>\n",
       "      <td>1971.356314</td>\n",
       "      <td>1984.266553</td>\n",
       "      <td>2007.790444</td>\n",
       "    </tr>\n",
       "    <tr>\n",
       "      <th>std</th>\n",
       "      <td>391.890885</td>\n",
       "      <td>428.395715</td>\n",
       "      <td>25.141331</td>\n",
       "      <td>0.827731</td>\n",
       "      <td>0.524762</td>\n",
       "      <td>0.245175</td>\n",
       "      <td>439.419122</td>\n",
       "      <td>455.586452</td>\n",
       "      <td>169.142089</td>\n",
       "      <td>64.139059</td>\n",
       "      <td>...</td>\n",
       "      <td>1.111537</td>\n",
       "      <td>1.411026</td>\n",
       "      <td>35.597181</td>\n",
       "      <td>66307.700431</td>\n",
       "      <td>56.087370</td>\n",
       "      <td>1.572964</td>\n",
       "      <td>126.361562</td>\n",
       "      <td>30.245361</td>\n",
       "      <td>20.860286</td>\n",
       "      <td>1.316613</td>\n",
       "    </tr>\n",
       "    <tr>\n",
       "      <th>min</th>\n",
       "      <td>334.000000</td>\n",
       "      <td>0.000000</td>\n",
       "      <td>0.000000</td>\n",
       "      <td>0.000000</td>\n",
       "      <td>0.000000</td>\n",
       "      <td>0.000000</td>\n",
       "      <td>0.000000</td>\n",
       "      <td>0.000000</td>\n",
       "      <td>0.000000</td>\n",
       "      <td>0.000000</td>\n",
       "      <td>...</td>\n",
       "      <td>1.000000</td>\n",
       "      <td>1.000000</td>\n",
       "      <td>0.000000</td>\n",
       "      <td>12789.000000</td>\n",
       "      <td>0.000000</td>\n",
       "      <td>2.000000</td>\n",
       "      <td>0.000000</td>\n",
       "      <td>1872.000000</td>\n",
       "      <td>1950.000000</td>\n",
       "      <td>2006.000000</td>\n",
       "    </tr>\n",
       "    <tr>\n",
       "      <th>25%</th>\n",
       "      <td>876.250000</td>\n",
       "      <td>0.000000</td>\n",
       "      <td>0.000000</td>\n",
       "      <td>2.000000</td>\n",
       "      <td>0.000000</td>\n",
       "      <td>0.000000</td>\n",
       "      <td>219.000000</td>\n",
       "      <td>0.000000</td>\n",
       "      <td>0.000000</td>\n",
       "      <td>0.000000</td>\n",
       "      <td>...</td>\n",
       "      <td>5.000000</td>\n",
       "      <td>5.000000</td>\n",
       "      <td>0.000000</td>\n",
       "      <td>142500.000000</td>\n",
       "      <td>0.000000</td>\n",
       "      <td>5.000000</td>\n",
       "      <td>0.000000</td>\n",
       "      <td>1954.000000</td>\n",
       "      <td>1965.000000</td>\n",
       "      <td>2007.000000</td>\n",
       "    </tr>\n",
       "    <tr>\n",
       "      <th>50%</th>\n",
       "      <td>1084.000000</td>\n",
       "      <td>0.000000</td>\n",
       "      <td>0.000000</td>\n",
       "      <td>3.000000</td>\n",
       "      <td>0.000000</td>\n",
       "      <td>0.000000</td>\n",
       "      <td>466.000000</td>\n",
       "      <td>370.000000</td>\n",
       "      <td>0.000000</td>\n",
       "      <td>0.000000</td>\n",
       "      <td>...</td>\n",
       "      <td>5.000000</td>\n",
       "      <td>6.000000</td>\n",
       "      <td>0.000000</td>\n",
       "      <td>181469.701609</td>\n",
       "      <td>0.000000</td>\n",
       "      <td>6.000000</td>\n",
       "      <td>0.000000</td>\n",
       "      <td>1973.000000</td>\n",
       "      <td>1993.000000</td>\n",
       "      <td>2008.000000</td>\n",
       "    </tr>\n",
       "    <tr>\n",
       "      <th>75%</th>\n",
       "      <td>1384.000000</td>\n",
       "      <td>703.750000</td>\n",
       "      <td>0.000000</td>\n",
       "      <td>3.000000</td>\n",
       "      <td>1.000000</td>\n",
       "      <td>0.000000</td>\n",
       "      <td>801.750000</td>\n",
       "      <td>734.000000</td>\n",
       "      <td>0.000000</td>\n",
       "      <td>0.000000</td>\n",
       "      <td>...</td>\n",
       "      <td>6.000000</td>\n",
       "      <td>7.000000</td>\n",
       "      <td>0.000000</td>\n",
       "      <td>186600.000000</td>\n",
       "      <td>0.000000</td>\n",
       "      <td>7.000000</td>\n",
       "      <td>168.000000</td>\n",
       "      <td>2001.000000</td>\n",
       "      <td>2004.000000</td>\n",
       "      <td>2009.000000</td>\n",
       "    </tr>\n",
       "    <tr>\n",
       "      <th>max</th>\n",
       "      <td>5095.000000</td>\n",
       "      <td>2065.000000</td>\n",
       "      <td>508.000000</td>\n",
       "      <td>8.000000</td>\n",
       "      <td>3.000000</td>\n",
       "      <td>2.000000</td>\n",
       "      <td>2336.000000</td>\n",
       "      <td>5644.000000</td>\n",
       "      <td>1526.000000</td>\n",
       "      <td>1012.000000</td>\n",
       "      <td>...</td>\n",
       "      <td>9.000000</td>\n",
       "      <td>10.000000</td>\n",
       "      <td>800.000000</td>\n",
       "      <td>611657.000000</td>\n",
       "      <td>576.000000</td>\n",
       "      <td>15.000000</td>\n",
       "      <td>1424.000000</td>\n",
       "      <td>2010.000000</td>\n",
       "      <td>2010.000000</td>\n",
       "      <td>2010.000000</td>\n",
       "    </tr>\n",
       "  </tbody>\n",
       "</table>\n",
       "<p>8 rows × 36 columns</p>\n",
       "</div>"
      ],
      "text/plain": [
       "        1st Flr SF   2nd Flr SF   3Ssn Porch  Bedroom AbvGr  Bsmt Full Bath  \\\n",
       "count  2930.000000  2930.000000  2930.000000    2930.000000     2930.000000   \n",
       "mean   1159.557679   335.455973     2.592491       2.854266        0.431058   \n",
       "std     391.890885   428.395715    25.141331       0.827731        0.524762   \n",
       "min     334.000000     0.000000     0.000000       0.000000        0.000000   \n",
       "25%     876.250000     0.000000     0.000000       2.000000        0.000000   \n",
       "50%    1084.000000     0.000000     0.000000       3.000000        0.000000   \n",
       "75%    1384.000000   703.750000     0.000000       3.000000        1.000000   \n",
       "max    5095.000000  2065.000000   508.000000       8.000000        3.000000   \n",
       "\n",
       "       Bsmt Half Bath  Bsmt Unf SF  BsmtFin SF 1  BsmtFin SF 2  \\\n",
       "count     2930.000000  2930.000000   2930.000000   2930.000000   \n",
       "mean         0.061092   559.262547    442.478498     49.705461   \n",
       "std          0.245175   439.419122    455.586452    169.142089   \n",
       "min          0.000000     0.000000      0.000000      0.000000   \n",
       "25%          0.000000   219.000000      0.000000      0.000000   \n",
       "50%          0.000000   466.000000    370.000000      0.000000   \n",
       "75%          0.000000   801.750000    734.000000      0.000000   \n",
       "max          2.000000  2336.000000   5644.000000   1526.000000   \n",
       "\n",
       "       Enclosed Porch     ...       Overall Cond  Overall Qual    Pool Area  \\\n",
       "count     2930.000000     ...        2930.000000   2930.000000  2930.000000   \n",
       "mean        23.011604     ...           5.563140      6.094881     2.243345   \n",
       "std         64.139059     ...           1.111537      1.411026    35.597181   \n",
       "min          0.000000     ...           1.000000      1.000000     0.000000   \n",
       "25%          0.000000     ...           5.000000      5.000000     0.000000   \n",
       "50%          0.000000     ...           5.000000      6.000000     0.000000   \n",
       "75%          0.000000     ...           6.000000      7.000000     0.000000   \n",
       "max       1012.000000     ...           9.000000     10.000000   800.000000   \n",
       "\n",
       "           SalePrice  Screen Porch  TotRms AbvGrd  Wood Deck SF   Year Built  \\\n",
       "count    2930.000000   2930.000000    2930.000000   2930.000000  2930.000000   \n",
       "mean   181469.701609     16.002048       6.443003     93.751877  1971.356314   \n",
       "std     66307.700431     56.087370       1.572964    126.361562    30.245361   \n",
       "min     12789.000000      0.000000       2.000000      0.000000  1872.000000   \n",
       "25%    142500.000000      0.000000       5.000000      0.000000  1954.000000   \n",
       "50%    181469.701609      0.000000       6.000000      0.000000  1973.000000   \n",
       "75%    186600.000000      0.000000       7.000000    168.000000  2001.000000   \n",
       "max    611657.000000    576.000000      15.000000   1424.000000  2010.000000   \n",
       "\n",
       "       Year Remod/Add      Yr Sold  \n",
       "count     2930.000000  2930.000000  \n",
       "mean      1984.266553  2007.790444  \n",
       "std         20.860286     1.316613  \n",
       "min       1950.000000  2006.000000  \n",
       "25%       1965.000000  2007.000000  \n",
       "50%       1993.000000  2008.000000  \n",
       "75%       2004.000000  2009.000000  \n",
       "max       2010.000000  2010.000000  \n",
       "\n",
       "[8 rows x 36 columns]"
      ]
     },
     "execution_count": 74,
     "metadata": {},
     "output_type": "execute_result"
    }
   ],
   "source": [
    "features.describe()"
   ]
  },
  {
   "cell_type": "code",
   "execution_count": 75,
   "metadata": {},
   "outputs": [],
   "source": [
    "sale_condition=[]\n",
    "for i in train['Sale Condition']:\n",
    "    if i=='Normal':\n",
    "        sale_condition.append(0)\n",
    "    else:\n",
    "        sale_condition.append(1)"
   ]
  },
  {
   "cell_type": "code",
   "execution_count": 76,
   "metadata": {},
   "outputs": [],
   "source": [
    "train['Sale Condition']=sale_condition"
   ]
  },
  {
   "cell_type": "code",
   "execution_count": 88,
   "metadata": {},
   "outputs": [
    {
     "data": {
      "text/plain": [
       "<matplotlib.text.Text at 0x1191d3b70>"
      ]
     },
     "execution_count": 88,
     "metadata": {},
     "output_type": "execute_result"
    },
    {
     "data": {
      "image/png": "[encoded data removed]",
      "text/plain": [
       "<matplotlib.figure.Figure at 0x118f55588>"
      ]
     },
     "metadata": {},
     "output_type": "display_data"
    }
   ],
   "source": [
    "plt.hist(train['Sale Condition'])\n",
    "plt.title('Sale Condition')\n",
    "plt.xlabel('0: Normal'+'      '+'1: Abnormal')\n",
    "plt.ylabel('count')"
   ]
  },
  {
   "cell_type": "markdown",
   "metadata": {},
   "source": [
    " "
   ]
  }
 ],
 "metadata": {
  "anaconda-cloud": {},
  "kernelspec": {
   "display_name": "Python [py36]",
   "language": "python",
   "name": "Python [py36]"
  },
  "language_info": {
   "codemirror_mode": {
    "name": "ipython",
    "version": 3
   },
   "file_extension": ".py",
   "mimetype": "text/x-python",
   "name": "python",
   "nbconvert_exporter": "python",
   "pygments_lexer": "ipython3",
   "version": "3.6.1"
  }
 },
 "nbformat": 4,
 "nbformat_minor": 2
}
